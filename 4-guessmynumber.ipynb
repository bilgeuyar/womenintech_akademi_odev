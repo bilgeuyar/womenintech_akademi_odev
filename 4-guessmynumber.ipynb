{
 "cells": [
  {
   "cell_type": "code",
   "execution_count": 1,
   "metadata": {},
   "outputs": [
    {
     "name": "stdout",
     "output_type": "stream",
     "text": [
      "CONGRATS!!!\n"
     ]
    }
   ],
   "source": [
    "import random\n",
    "\n",
    "def guess_mynumber(x):\n",
    "    s = 1 \n",
    "    e = 100\n",
    "    result = \"\"\n",
    "    while result != \"c\":\n",
    "        guess = random.randint(s, e)\n",
    "        \n",
    "\n",
    "        result = input(f\" If {guess} is bigger than the value you have in mind enter(b), if less(s), if guess is correct enter(c).\")\n",
    "        if result == \"b\":\n",
    "            e = guess - 1\n",
    "        \n",
    "        elif result == \"s\":\n",
    "            s = guess + 1 \n",
    "\n",
    "    print(\"CONGRATS!!!\")\n",
    "\n",
    "guess_mynumber(73)"
   ]
  }
 ],
 "metadata": {
  "kernelspec": {
   "display_name": "Python 3.8.8 64-bit",
   "language": "python",
   "name": "python3"
  },
  "language_info": {
   "codemirror_mode": {
    "name": "ipython",
    "version": 3
   },
   "file_extension": ".py",
   "mimetype": "text/x-python",
   "name": "python",
   "nbconvert_exporter": "python",
   "pygments_lexer": "ipython3",
   "version": "3.8.8"
  },
  "orig_nbformat": 4,
  "vscode": {
   "interpreter": {
    "hash": "2c953fdf2d1575f43800182a439b9c91472a60814aa899772e32581077d29bf8"
   }
  }
 },
 "nbformat": 4,
 "nbformat_minor": 2
}
