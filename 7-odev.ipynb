{
 "cells": [
  {
   "cell_type": "markdown",
   "metadata": {},
   "source": [
    "2-Soru: 0dan 100e kadar karışık sırada sayıları tutan bir listenizin olduğunu düşünün. Bu liste içerisinde bu defa n tane sayı yerine 1 adet sayı eksik. Eksik olan sayıyı bulunuz."
   ]
  },
  {
   "cell_type": "code",
   "execution_count": 12,
   "metadata": {},
   "outputs": [
    {
     "name": "stdout",
     "output_type": "stream",
     "text": [
      "Shuffle list from 0-100: [82, 44, 27, 63, 30, 68, 43, 22, 89, 87, 69, 4, 3, 83, 86, 100, 9, 76, 23, 33, 14, 74, 70, 73, 13, 62, 77, 21, 99, 93, 39, 56, 78, 46, 34, 91, 29, 61, 85, 52, 51, 49, 38, 90, 42, 35, 50, 64, 6, 55, 59, 92, 17, 88, 0, 80, 25, 24, 95, 98, 1, 8, 18, 60, 94, 47, 57, 96, 66, 75, 79, 11, 84, 72, 26, 10, 71, 31, 36, 45, 97, 58, 19, 12, 2, 28, 41, 53, 16, 7, 15, 37, 81, 65, 48, 67, 20, 32, 5, 40]\n",
      "Deleted number: [54]\n"
     ]
    }
   ],
   "source": [
    "import random\n",
    "\n",
    "# Outputs a mixed list from 0-100\n",
    "my_list = [x for x in range(101)]\n",
    "pre_len = len(my_list)\n",
    "my_list2 = []\n",
    "random.shuffle(my_list)\n",
    "\n",
    "random_number = random.choice(my_list)\n",
    "my_list.remove(random_number)\n",
    "my_list2.append(random_number)\n",
    "\n",
    "print(\"Shuffle list from 0-100:\", my_list)\n",
    "\n",
    "print(\"Deleted number:\", my_list2)\n"
   ]
  }
 ],
 "metadata": {
  "kernelspec": {
   "display_name": "Python 3.8.8 64-bit",
   "language": "python",
   "name": "python3"
  },
  "language_info": {
   "codemirror_mode": {
    "name": "ipython",
    "version": 3
   },
   "file_extension": ".py",
   "mimetype": "text/x-python",
   "name": "python",
   "nbconvert_exporter": "python",
   "pygments_lexer": "ipython3",
   "version": "3.8.8"
  },
  "orig_nbformat": 4,
  "vscode": {
   "interpreter": {
    "hash": "2c953fdf2d1575f43800182a439b9c91472a60814aa899772e32581077d29bf8"
   }
  }
 },
 "nbformat": 4,
 "nbformat_minor": 2
}
