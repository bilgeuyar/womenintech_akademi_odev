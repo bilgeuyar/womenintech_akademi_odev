{
 "cells": [
  {
   "cell_type": "markdown",
   "metadata": {},
   "source": [
    "Uçuşların ve pilotların yönetimi için bir sistem tasarlayın.\n",
    "\n",
    "Hava yolu şirketleri uçuşları gerçekleştirir. Her hava yolunun bir kimliği vardır.\n",
    "Hava yolu şirketi, farklı tipteki uçaklara sahiptir.\n",
    "Uçaklar çalışır veya onarım durumunda olabilir.\n",
    "Her uçuşun benzersiz kimliği, kalkacağı ve ineceği havaalanı, kalkış ve iniş saatleri vardır.\n",
    "Her uçuşun bir pilotu ve yardımcı pilotu vardır ve uçağı kullanırlar.\n",
    "Havaalanlarının benzersiz kimlikleri ve isimleri vardır.\n",
    "Hava yolu şirketlerinin pilotları vardır ve her pilotun bir deneyim seviyesi mevcuttur.\n",
    "Bir uçak tipi, belirli sayıda pilota ihtiyaç duyabilir.\n"
   ]
  },
  {
   "cell_type": "code",
   "execution_count": null,
   "metadata": {},
   "outputs": [],
   "source": [
    "class company:\n",
    "    def __init__(self, name):\n",
    "        return "
   ]
  },
  {
   "cell_type": "code",
   "execution_count": null,
   "metadata": {},
   "outputs": [],
   "source": [
    "class airplanes:\n",
    "    def __init__(self, type, situation, pilot, co_pilot):\n",
    "        self.type = type\n",
    "        self.situation = situation\n",
    "        self.pilot = pilot\n",
    "        self.co_pilot = co_pilot\n",
    "        return\n"
   ]
  },
  {
   "cell_type": "code",
   "execution_count": null,
   "metadata": {},
   "outputs": [],
   "source": [
    "class flight:\n",
    "    def __init__(self, departure_airport, airport_to_land, departure_time, landing_time):\n",
    "        self.departure_airport = departure_airport\n",
    "        self.airport_to_land = airport_to_land\n",
    "        self.departure_time = departure_time\n",
    "        self.landing_time = landing_time \n",
    "        return\n"
   ]
  }
 ],
 "metadata": {
  "kernelspec": {
   "display_name": "Python 3.8.8 64-bit",
   "language": "python",
   "name": "python3"
  },
  "language_info": {
   "name": "python",
   "version": "3.8.8"
  },
  "orig_nbformat": 4,
  "vscode": {
   "interpreter": {
    "hash": "2c953fdf2d1575f43800182a439b9c91472a60814aa899772e32581077d29bf8"
   }
  }
 },
 "nbformat": 4,
 "nbformat_minor": 2
}
