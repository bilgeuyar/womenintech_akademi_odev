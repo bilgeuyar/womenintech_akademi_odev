{
 "cells": [
  {
   "cell_type": "markdown",
   "metadata": {},
   "source": [
    "3-Soru: Bir liste üzerinde sıralama algoritmasını kullanarak listeyi sıralayınız."
   ]
  },
  {
   "cell_type": "code",
   "execution_count": 16,
   "metadata": {},
   "outputs": [
    {
     "name": "stdout",
     "output_type": "stream",
     "text": [
      "The sorted list is:  [20, 31, 33, 44, 49, 51, 55, 58, 65, 67, 68, 69, 73, 80, 81, 91, 95, 98]\n"
     ]
    }
   ],
   "source": [
    "import random\n",
    "my_list2 = [31, 58, 33, 49, 44, 81, 95, 73, 51, 91, 67, 98, 65, 69, 20, 80, 68, 55]\n",
    "\n",
    "\n",
    "def selection_sort(my_list2):  \n",
    "    length = len(my_list2)  \n",
    "      \n",
    "    for i in range(length-1):  \n",
    "        min = i  \n",
    "          \n",
    "        for j in range(i+1, length):  \n",
    "            if my_list2[j]<my_list2[min]:  \n",
    "                min = j  \n",
    "                  \n",
    "        my_list2[i], my_list2[min] = my_list2[min], my_list2[i]  \n",
    "          \n",
    "          \n",
    "    return my_list2     \n",
    "  \n",
    "print(\"The sorted list is: \", selection_sort(my_list2))  "
   ]
  }
 ],
 "metadata": {
  "kernelspec": {
   "display_name": "Python 3.8.8 64-bit",
   "language": "python",
   "name": "python3"
  },
  "language_info": {
   "codemirror_mode": {
    "name": "ipython",
    "version": 3
   },
   "file_extension": ".py",
   "mimetype": "text/x-python",
   "name": "python",
   "nbconvert_exporter": "python",
   "pygments_lexer": "ipython3",
   "version": "3.8.8"
  },
  "orig_nbformat": 4,
  "vscode": {
   "interpreter": {
    "hash": "2c953fdf2d1575f43800182a439b9c91472a60814aa899772e32581077d29bf8"
   }
  }
 },
 "nbformat": 4,
 "nbformat_minor": 2
}
