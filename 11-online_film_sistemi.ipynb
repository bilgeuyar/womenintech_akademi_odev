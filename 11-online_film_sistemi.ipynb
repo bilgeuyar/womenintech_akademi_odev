{
 "cells": [
  {
   "cell_type": "markdown",
   "metadata": {},
   "source": [
    "Online film satan veya kiralayan uygulamanın sistemini tasarlayın.\n",
    "\n",
    "Uygulamada filmler listelenebilir, sıralanabilir ve kullanıcılar uygulamaya abone olabilir.\n",
    "Kullanıcılar abonelik için sistem üzerinden kredi satın alır.\n",
    "Sadece abone olan kullanıcılar, kredileri ile film kiralayabilir ve kiraladığı filmin kredi bedeli kadar hesabından düşülür.\n",
    "Normal kullanıcılar ve aboneler film satın alabilirler.\n",
    "Eğer film mevcut değil ise talep edilebilir.\n",
    "Bu sistemi tasvir eden Class(Sınıf) diyagramını çiziniz."
   ]
  },
  {
   "cell_type": "code",
   "execution_count": 12,
   "metadata": {},
   "outputs": [
    {
     "name": "stdout",
     "output_type": "stream",
     "text": [
      "<__main__.movies object at 0x00000183D2B10220>\n"
     ]
    }
   ],
   "source": [
    "class movies:\n",
    "    def __init__(self, name, credit, subscription):\n",
    "        self.name = name\n",
    "        self.credit = credit\n",
    "        self.subscription = subscription\n",
    "        \n",
    "    #her film kiralama 10 birim olsun.\n",
    "    #filmi almak 20 birim olsun.\n",
    "    def movie_paying(self):\n",
    "        if self.subscription == (\"Premium\"):\n",
    "            self.credit = self.credit - 10\n",
    "           \n",
    "            \n",
    "        elif self.subscription == (\"Not Premium\"):\n",
    "            self.credit = self.credit - 20\n",
    "       \n",
    "movies1 = movies(\"Intouchables\", 40, \"Premium\")\n",
    "\n",
    "print(movies1)\n",
    "\n",
    "    "
   ]
  }
 ],
 "metadata": {
  "kernelspec": {
   "display_name": "Python 3.8.8 64-bit",
   "language": "python",
   "name": "python3"
  },
  "language_info": {
   "codemirror_mode": {
    "name": "ipython",
    "version": 3
   },
   "file_extension": ".py",
   "mimetype": "text/x-python",
   "name": "python",
   "nbconvert_exporter": "python",
   "pygments_lexer": "ipython3",
   "version": "3.8.8"
  },
  "orig_nbformat": 4,
  "vscode": {
   "interpreter": {
    "hash": "2c953fdf2d1575f43800182a439b9c91472a60814aa899772e32581077d29bf8"
   }
  }
 },
 "nbformat": 4,
 "nbformat_minor": 2
}
