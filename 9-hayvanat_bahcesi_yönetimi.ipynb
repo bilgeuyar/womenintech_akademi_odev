{
 "cells": [
  {
   "cell_type": "markdown",
   "metadata": {},
   "source": [
    "Bir hayvanat bahçesindeki hayvanlar hakkındaki bilgileri takip etmek için bir sistem tasarlıyorsunuz.\n",
    "\n",
    "Hayvanlar:\n",
    "Atlar (atlar, zebralar, eşekler vb.),\n",
    "Kedigiller (kaplanlar, aslanlar vb.),\n",
    "Kemirgenler (sıçanlar, kunduzlar vb.) gibi gruplardaki türlerle karakterize edilir.\n",
    "Hayvanlar hakkında depolanan bilgilerin çoğu tüm gruplamalar için aynıdır.\n",
    "tür adı, ağırlığı, yaşı vb.\n",
    "Sistem ayrıca her hayvan için belirli ilaçların dozajını alabilmeli => getDosage ()\n",
    "Sistem Yem verme zamanlarını hesaplayabilmelidir => getFeedSchedule ()\n",
    "Sistemin bu işlevleri yerine getirme mantığı, her gruplama için farklı olacaktır. Örneğin, atlar için yem verme algoritması farklı olup, kaplanlar için farklı olacaktır.\n",
    "\n"
   ]
  },
  {
   "cell_type": "code",
   "execution_count": null,
   "metadata": {},
   "outputs": [],
   "source": [
    "class Animals:\n",
    "    def __init__(self, type, weight, age):\n",
    "        self.type= type\n",
    "        self.weight = weight\n",
    "        self.age = age\n",
    "\n",
    "    def getDosage(self):\n",
    "        return 3\n",
    "    \n",
    "    def FeedSchedule(self):\n",
    "        return[1, 3]\n",
    "\n",
    "class Horses:\n",
    "    def __init__(self, type, weight, age):\n",
    "        self.type= type\n",
    "        self.weight = weight\n",
    "        self.age = age\n",
    "    \n",
    "    def getDosage(self):\n",
    "        return 4\n",
    "    \n",
    "    def FeedSchedule(self):\n",
    "        return[7, 10]\n",
    "\n",
    "class Felines:\n",
    "    def __init__(self, type, weight, age):\n",
    "        self.type= type\n",
    "        self.weight = weight\n",
    "        self.age = age\n",
    "    \n",
    "    def getDosage(self):\n",
    "        return 2\n",
    "    \n",
    "    def FeedSchedule(self):\n",
    "        return[1, 3]\n",
    "\n",
    "class Rodents:\n",
    "    def __init__(self, type, weight, age):\n",
    "        self.type= type\n",
    "        self.weight = weight\n",
    "        self.age = age\n",
    "    \n",
    "    def getDosage(self):\n",
    "        return 1\n",
    "    \n",
    "    def FeedSchedule(self):\n",
    "        return[2, 4]\n",
    "\n",
    "\n",
    "\n",
    "        "
   ]
  }
 ],
 "metadata": {
  "kernelspec": {
   "display_name": "Python 3.8.8 64-bit",
   "language": "python",
   "name": "python3"
  },
  "language_info": {
   "name": "python",
   "version": "3.8.8"
  },
  "orig_nbformat": 4,
  "vscode": {
   "interpreter": {
    "hash": "2c953fdf2d1575f43800182a439b9c91472a60814aa899772e32581077d29bf8"
   }
  }
 },
 "nbformat": 4,
 "nbformat_minor": 2
}
