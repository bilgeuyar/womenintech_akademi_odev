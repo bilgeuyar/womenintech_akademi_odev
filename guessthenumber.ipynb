{
 "cells": [
  {
   "cell_type": "code",
   "execution_count": 1,
   "metadata": {},
   "outputs": [
    {
     "name": "stdout",
     "output_type": "stream",
     "text": [
      "You have to make a bigger guess.\n",
      "You have to make a bigger guess.\n",
      "You have to make a bigger guess.\n",
      "You have to make a bigger guess.\n",
      "You have to make a bigger guess.\n",
      "You have to make a smaller guess.\n",
      "You have to make a smaller guess.\n",
      "Congrats.\n"
     ]
    }
   ],
   "source": [
    "from random import randint\n",
    "\n",
    "def guess(num):\n",
    "    us_num = int(input(\"Enter a value.\"))\n",
    "    while num != us_num:\n",
    "        if num < us_num:\n",
    "            print(\"You have to make a smaller guess.\")\n",
    "        else:\n",
    "            print(\"You have to make a bigger guess.\")\n",
    "        us_num = int(input(\"Guess again.\"))\n",
    "    else:\n",
    "        print(\"Congrats.\")\n",
    "\n",
    "\n",
    "\n",
    "guess(randint(1, 150))"
   ]
  }
 ],
 "metadata": {
  "kernelspec": {
   "display_name": "Python 3.8.8 64-bit",
   "language": "python",
   "name": "python3"
  },
  "language_info": {
   "codemirror_mode": {
    "name": "ipython",
    "version": 3
   },
   "file_extension": ".py",
   "mimetype": "text/x-python",
   "name": "python",
   "nbconvert_exporter": "python",
   "pygments_lexer": "ipython3",
   "version": "3.8.8"
  },
  "orig_nbformat": 4,
  "vscode": {
   "interpreter": {
    "hash": "2c953fdf2d1575f43800182a439b9c91472a60814aa899772e32581077d29bf8"
   }
  }
 },
 "nbformat": 4,
 "nbformat_minor": 2
}
