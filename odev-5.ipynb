{
 "cells": [
  {
   "cell_type": "code",
   "execution_count": 2,
   "metadata": {},
   "outputs": [
    {
     "name": "stdout",
     "output_type": "stream",
     "text": [
      "Shuffle list from 0-100: [11, 23, 29, 6, 73, 43, 64, 39, 79, 93, 9, 25, 94, 16, 74, 47, 19, 65, 68, 56, 83, 30, 85, 70, 91, 76, 61, 27, 40, 13, 53, 97, 15, 28, 77, 20, 48, 38, 86, 44, 88, 45, 78, 100, 52, 87, 5, 46, 36, 58, 1, 60, 63, 7, 8, 80, 54, 67, 51, 17, 4, 62, 92, 37, 99, 35, 3, 2, 33, 71, 96, 12, 41, 0, 90, 10, 26, 50, 32, 21, 34, 55, 66, 98, 24, 84, 75, 82, 14, 57, 89, 59, 72, 69, 95, 81, 42, 22, 31, 18, 49]\n",
      "[23, 6, 43, 79, 25, 94, 19, 65, 68, 56, 83, 85, 91, 76, 61, 40, 53, 97, 15, 77, 20, 86, 45, 100, 52, 36, 7, 8, 54, 67, 51, 17, 62, 37, 35, 3, 71, 41, 26, 50, 32, 21, 55, 66, 75, 82, 95, 81, 31, 18]\n",
      "Deleted numbers: [98, 48, 22, 38, 2, 99, 13, 12, 59, 73, 0, 46, 88, 60, 80, 89, 84, 49, 5, 42, 90, 57, 24, 47, 9, 33, 93, 69, 14, 70, 44, 10, 34, 92, 96, 87, 1, 30, 16, 29, 64, 74, 39, 28, 27, 72, 58, 11, 78, 63, 4]\n",
      "Number of deleted numbers: 51\n"
     ]
    }
   ],
   "source": [
    "import random\n",
    "\n",
    "# Outputs a mixed list from 0-100\n",
    "my_list = [x for x in range(101)]\n",
    "pre_len = len(my_list)\n",
    "my_list2 = []\n",
    "random.shuffle(my_list)\n",
    "print(\"Shuffle list from 0-100:\", my_list)\n",
    "\n",
    "\n",
    "#Deletes n numbers and adds them to my_list2.\n",
    "for i in my_list:\n",
    "    my_list2.append(my_list.pop(random.randrange(len(my_list))))\n",
    "print(my_list)\n",
    "print(\"Deleted numbers:\", my_list2)\n",
    "\n",
    "#outputs the amount of numbers deleted.\n",
    "print(\"Number of deleted numbers:\", pre_len - len(my_list))"
   ]
  }
 ],
 "metadata": {
  "kernelspec": {
   "display_name": "Python 3.8.8 64-bit",
   "language": "python",
   "name": "python3"
  },
  "language_info": {
   "codemirror_mode": {
    "name": "ipython",
    "version": 3
   },
   "file_extension": ".py",
   "mimetype": "text/x-python",
   "name": "python",
   "nbconvert_exporter": "python",
   "pygments_lexer": "ipython3",
   "version": "3.8.8"
  },
  "orig_nbformat": 4,
  "vscode": {
   "interpreter": {
    "hash": "2c953fdf2d1575f43800182a439b9c91472a60814aa899772e32581077d29bf8"
   }
  }
 },
 "nbformat": 4,
 "nbformat_minor": 2
}
